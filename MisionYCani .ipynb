{
 "cells": [
  {
   "cell_type": "code",
   "execution_count": 38,
   "metadata": {},
   "outputs": [],
   "source": [
    "from search import *\n",
    "import operator #Importamos operator para poder realizar operaciones con tuplas."
   ]
  },
  {
   "cell_type": "code",
   "execution_count": 39,
   "metadata": {},
   "outputs": [],
   "source": [
    "class MisioYCani(Problem):\n",
    "\n",
    "    def __init__(self):\n",
    "        initial_state = State.value_of(INITIAL_STATE)\n",
    "        goal_state = State.value_of(GOAL_STATE)\n",
    "        super().__init__(initial_state, goal_state)\n",
    "\n",
    "    def actions(self, state):\n",
    "        all_actions = self.get_all_actions()\n",
    "        return self.get_valid_actions(state, all_actions)\n",
    "\n",
    "    @staticmethod\n",
    "    def get_all_actions():\n",
    "        return {\n",
    "            (1, 0, 1),\n",
    "            (2, 0, 1),\n",
    "            (0, 1, 1),\n",
    "            (0, 2, 1),\n",
    "            (1, 1, 1)\n",
    "        }\n",
    "\n",
    "    def get_valid_actions(self, state, all_actions):\n",
    "        is_action_valid_lambda = self.get_is_action_valid_lambda(state)\n",
    "        return set(filter(is_action_valid_lambda, all_actions))\n",
    "\n",
    "    def get_is_action_valid_lambda(self, state):\n",
    "        return lambda action: self.is_action_valid(state, action)\n",
    "\n",
    "    def is_action_valid(self, state, action):\n",
    "        operate = self.get_operation(state.boat)\n",
    "        result = operate(state, action)\n",
    "\n",
    "        return result.is_valid()\n",
    "\n",
    "    def result(self, state, action):\n",
    "        operate = self.get_operation(state.boat)\n",
    "        return operate(state, action)\n",
    "\n",
    "    @staticmethod\n",
    "    def get_operation(boat):\n",
    "        return operator.sub if boat == 1 else operator.add"
   ]
  },
  {
   "cell_type": "code",
   "execution_count": 40,
   "metadata": {},
   "outputs": [],
   "source": [
    "class State:\n",
    "    def __init__(self, missionaries, cannibals, boat):\n",
    "        self.value = (missionaries, cannibals, boat)\n",
    "        self.missionaries = missionaries\n",
    "        self.cannibals = cannibals\n",
    "        self.boat = boat\n",
    "\n",
    "    @classmethod\n",
    "    def value_of(cls, state):\n",
    "        if not cls.__is_valid_tuple(state):\n",
    "            raise ValueError(str(state) + \" debe ser una tupla de 3 elementos.\") #Esta funcion revisa si esta bien planteado el problema.\n",
    "        return State(state[0], state[1], state[2])\n",
    "\n",
    "    def is_valid(self):\n",
    "        if contains_negative(self.value):\n",
    "            return False\n",
    "        elif self.__has_more_than_one_boat():\n",
    "            return False\n",
    "        elif self.__has_more_cannibals_than_missionaries():\n",
    "            return False\n",
    "        elif self.value > INITIAL_STATE:\n",
    "            return False\n",
    "        else:\n",
    "            return True\n",
    "\n",
    "    def __has_more_than_one_boat(self):\n",
    "        return self.boat > 1\n",
    "\n",
    "    def __has_more_cannibals_than_missionaries(self):\n",
    "        return self.__more_cannibals_on_wrong_side() or self.__more_cannibals_on_right_side()\n",
    "\n",
    "    def __more_cannibals_on_wrong_side(self):\n",
    "        \"\"\"Esta funcion regresa verdadero si hay mas canibales en el lado inicial\"\"\"\n",
    "        return ((self.missionaries == 1 and self.cannibals == 3) or\n",
    "                (self.missionaries == 2 and self.cannibals == 3) or\n",
    "                (self.missionaries == 1 and self.cannibals == 2))\n",
    "\n",
    "    def __more_cannibals_on_right_side(self):\n",
    "        \"\"\"Esta funcion regresa verdadero si hay mas canibales en el lado opuesto al inicial\"\"\"\n",
    "        return ((self.missionaries == 2 and self.cannibals == 1) or\n",
    "                (self.missionaries == 1 and self.cannibals == 0))\n",
    "#Aqui se utiliza la libreria operator para utilizar las operaciones en las tuplas\n",
    "    def __add__(self, other):\n",
    "        result = self.__operate(other, operator.add)\n",
    "        return self.value_of(result)\n",
    "\n",
    "    def __sub__(self, other):\n",
    "        result = self.__operate(other, operator.sub)\n",
    "        return self.value_of(result)\n",
    "\n",
    "    def __operate(self, other, operation):\n",
    "        if self.__is_valid_tuple(other):\n",
    "            return operate_on_tuples(self.value, other, operation)\n",
    "        elif isinstance(other, State):\n",
    "            return operate_on_tuples(self.value, other.value, operation)\n",
    "        else:\n",
    "            raise ValueError(self.__get_invalid_operand_error(other))\n",
    "\n",
    "    @staticmethod\n",
    "    def __is_valid_tuple(other):\n",
    "        return isinstance(other, tuple) and len(other) == 3\n",
    "\n",
    "    @staticmethod\n",
    "    def __get_invalid_operand_error(other):\n",
    "        return str(other) + \" must be an instance of State or a tuple of length 3.\"\n",
    "\n",
    "    def __repr__(self):\n",
    "        return '<State {}>'.format(self.value)\n",
    "\n",
    "    def __str__(self):\n",
    "        return '<State {}>'.format(self.value)\n",
    "\n",
    "    def __lt__(self, other):\n",
    "        self.__ensure_instance_of_state(other)\n",
    "        return self.value < other.value\n",
    "\n",
    "    def __eq__(self, other):\n",
    "        return isinstance(other, State) and self.value == other.value\n",
    "\n",
    "    def __hash__(self):\n",
    "        return hash(self.value)\n",
    "\n",
    "    @staticmethod\n",
    "    def __ensure_instance_of_state(other):\n",
    "        if not isinstance(other, State):\n",
    "            raise ValueError(str(other) + \" must be an instance of State\")\n"
   ]
  },
  {
   "cell_type": "code",
   "execution_count": 41,
   "metadata": {},
   "outputs": [],
   "source": [
    "def add_tuples(a, b):\n",
    "    return operate_on_tuples(a, b, operator.add)\n",
    "\n",
    "\n",
    "def subtract_tuples(a, b):\n",
    "    return operate_on_tuples(a, b, operator.sub)\n",
    "\n",
    "\n",
    "def operate_on_tuples(a, b, operation):\n",
    "    return tuple(map(operation, a, b))\n",
    "\n",
    "def contains_negative(collection):\n",
    "    return any(n < 0 for n in collection)"
   ]
  },
  {
   "cell_type": "markdown",
   "metadata": {},
   "source": [
    "# Aqui se viene lo chido\n"
   ]
  },
  {
   "cell_type": "code",
   "execution_count": 42,
   "metadata": {},
   "outputs": [],
   "source": [
    "INITIAL_STATE = (3, 3, 1)\n",
    "GOAL_STATE = (0, 0, 0)"
   ]
  },
  {
   "cell_type": "code",
   "execution_count": 43,
   "metadata": {},
   "outputs": [
    {
     "name": "stdout",
     "output_type": "stream",
     "text": [
      "(3, 3, 1)\n",
      "(3, 1, 0)\n",
      "(3, 2, 1)\n",
      "(3, 0, 0)\n",
      "(3, 1, 1)\n",
      "(2, 0, 0)\n",
      "(2, 2, 1)\n",
      "(0, 2, 0)\n",
      "(0, 3, 1)\n",
      "(0, 1, 0)\n",
      "(0, 2, 1)\n",
      "(0, 0, 0)\n"
     ]
    }
   ],
   "source": [
    "from search import iterative_deepening_search\n",
    "\n",
    "def print_path(path):\n",
    "    for node in path:\n",
    "        print(node.state.value)\n",
    "\n",
    "problem = MisioYCani()\n",
    "result = iterative_deepening_search(problem)\n",
    "result2 = depth_limited_search(problem, limit=15)\n",
    "print_path(result.path())\n"
   ]
  },
  {
   "cell_type": "code",
   "execution_count": 44,
   "metadata": {},
   "outputs": [
    {
     "name": "stdout",
     "output_type": "stream",
     "text": [
      "(3, 3, 1)\n",
      "(3, 2, 0)\n",
      "(3, 3, 1)\n",
      "(3, 2, 0)\n",
      "(3, 3, 1)\n",
      "(3, 1, 0)\n",
      "(3, 2, 1)\n",
      "(3, 0, 0)\n",
      "(3, 1, 1)\n",
      "(2, 0, 0)\n",
      "(2, 2, 1)\n",
      "(0, 2, 0)\n",
      "(0, 3, 1)\n",
      "(0, 1, 0)\n",
      "(0, 2, 1)\n",
      "(0, 0, 0)\n"
     ]
    }
   ],
   "source": [
    "print_path(result2.path()) #Dependiendo el limite del depth limited se realizan ciclos inescesarios en el algoritmo."
   ]
  },
  {
   "cell_type": "code",
   "execution_count": null,
   "metadata": {},
   "outputs": [],
   "source": []
  }
 ],
 "metadata": {
  "kernelspec": {
   "display_name": "Python 3",
   "language": "python",
   "name": "python3"
  },
  "language_info": {
   "codemirror_mode": {
    "name": "ipython",
    "version": 3
   },
   "file_extension": ".py",
   "mimetype": "text/x-python",
   "name": "python",
   "nbconvert_exporter": "python",
   "pygments_lexer": "ipython3",
   "version": "3.7.3"
  }
 },
 "nbformat": 4,
 "nbformat_minor": 4
}
