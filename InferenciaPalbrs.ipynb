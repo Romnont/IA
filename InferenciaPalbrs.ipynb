{
 "cells": [
  {
   "cell_type": "code",
   "execution_count": null,
   "metadata": {},
   "outputs": [],
   "source": [
    "import numpy as np\n",
    "\n",
    "M=np.array([[0.9960, 0.0039, 0.5, 0.5],[0.5, 0.5, 0.9986, 0.0013],[0.0039, 0.9960, 0.9986, 0.0013],[0.9960, 0.0039, 0.0013, 0.9986],[0.5,0.5,0.5,0.5],[0.25,0.75,0.25,0.75]])\n",
    "\n",
    "V=[1,2,3,4,5]"
   ]
  }
 ],
 "metadata": {
  "kernelspec": {
   "display_name": "Python 3",
   "language": "python",
   "name": "python3"
  },
  "language_info": {
   "codemirror_mode": {
    "name": "ipython",
    "version": 3
   },
   "file_extension": ".py",
   "mimetype": "text/x-python",
   "name": "python",
   "nbconvert_exporter": "python",
   "pygments_lexer": "ipython3",
   "version": "3.7.3"
  }
 },
 "nbformat": 4,
 "nbformat_minor": 4
}
